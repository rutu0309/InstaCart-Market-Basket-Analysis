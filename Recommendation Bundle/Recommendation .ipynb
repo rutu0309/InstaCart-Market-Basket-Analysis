{
 "cells": [
  {
   "cell_type": "code",
   "execution_count": 1,
   "metadata": {},
   "outputs": [
    {
     "data": {
      "text/plain": [
       "'/Users/rutu/Desktop/INSTACART'"
      ]
     },
     "execution_count": 1,
     "metadata": {},
     "output_type": "execute_result"
    }
   ],
   "source": [
    "import os\n",
    "os.getcwd()"
   ]
  },
  {
   "cell_type": "code",
   "execution_count": 2,
   "metadata": {},
   "outputs": [],
   "source": [
    "import pandas as pd"
   ]
  },
  {
   "cell_type": "code",
   "execution_count": 3,
   "metadata": {},
   "outputs": [],
   "source": [
    "prior = pd.read_csv('order_products__prior.csv')\n",
    "orders = pd.read_csv('orders.csv')\n",
    "products = pd.read_csv('products.csv')"
   ]
  },
  {
   "cell_type": "code",
   "execution_count": 4,
   "metadata": {},
   "outputs": [],
   "source": [
    "# orders in prior merged with product names\n",
    "prior_products = pd.merge(prior, products, how='left', on='product_id')\n"
   ]
  },
  {
   "cell_type": "code",
   "execution_count": 5,
   "metadata": {},
   "outputs": [],
   "source": [
    "# Prior orders with user_id, product_id, product_name\n",
    "prior_products_order = pd.merge(prior_products, orders, how='left', on='order_id')"
   ]
  },
  {
   "cell_type": "code",
   "execution_count": 6,
   "metadata": {},
   "outputs": [
    {
     "data": {
      "text/plain": [
       "'Organic Egg Whites'"
      ]
     },
     "execution_count": 6,
     "metadata": {},
     "output_type": "execute_result"
    }
   ],
   "source": [
    "prior_products_order['product_name'][0]"
   ]
  },
  {
   "cell_type": "code",
   "execution_count": 6,
   "metadata": {},
   "outputs": [],
   "source": [
    "#Sep = _ for all product name\n",
    "products = prior_products_order['product_name']\n",
    "product_no_space = []\n",
    "for product in products:\n",
    "    product = product.replace(\" \", \"_\")\n",
    "    product_no_space.append(product)\n"
   ]
  },
  {
   "cell_type": "code",
   "execution_count": 7,
   "metadata": {},
   "outputs": [],
   "source": [
    "#Repalcing the oldcol with the new one(with _)\n",
    "prior_products_order.drop(['product_name'], axis=1)\n",
    "prior_products_order['product_name'] = product_no_space"
   ]
  },
  {
   "cell_type": "code",
   "execution_count": 9,
   "metadata": {},
   "outputs": [
    {
     "name": "stdout",
     "output_type": "stream",
     "text": [
      "          order_id  product_id  add_to_cart_order  reordered  \\\n",
      "0                2       33120                  1          1   \n",
      "1                2       28985                  2          1   \n",
      "2                2        9327                  3          0   \n",
      "3                2       45918                  4          1   \n",
      "4                2       30035                  5          0   \n",
      "5                2       17794                  6          1   \n",
      "6                2       40141                  7          1   \n",
      "7                2        1819                  8          1   \n",
      "8                2       43668                  9          0   \n",
      "9                3       33754                  1          1   \n",
      "10               3       24838                  2          1   \n",
      "11               3       17704                  3          1   \n",
      "12               3       21903                  4          1   \n",
      "13               3       17668                  5          1   \n",
      "14               3       46667                  6          1   \n",
      "15               3       17461                  7          1   \n",
      "16               3       32665                  8          1   \n",
      "17               4       46842                  1          0   \n",
      "18               4       26434                  2          1   \n",
      "19               4       39758                  3          1   \n",
      "20               4       27761                  4          1   \n",
      "21               4       10054                  5          1   \n",
      "22               4       21351                  6          1   \n",
      "23               4       22598                  7          1   \n",
      "24               4       34862                  8          1   \n",
      "25               4       40285                  9          1   \n",
      "26               4       17616                 10          1   \n",
      "27               4       25146                 11          1   \n",
      "28               4       32645                 12          1   \n",
      "29               4       41276                 13          1   \n",
      "...            ...         ...                ...        ...   \n",
      "32434459   3421080       41950                  4          0   \n",
      "32434460   3421080       31717                  5          0   \n",
      "32434461   3421080       12935                  6          1   \n",
      "32434462   3421080       25122                  7          0   \n",
      "32434463   3421080       10667                  8          0   \n",
      "32434464   3421080       38061                  9          0   \n",
      "32434465   3421081       38185                  1          0   \n",
      "32434466   3421081       12218                  2          0   \n",
      "32434467   3421081       32299                  3          0   \n",
      "32434468   3421081        3060                  4          0   \n",
      "32434469   3421081       20539                  5          0   \n",
      "32434470   3421081       35221                  6          0   \n",
      "32434471   3421081       12861                  7          0   \n",
      "32434472   3421082       17279                  1          1   \n",
      "32434473   3421082       12738                  2          1   \n",
      "32434474   3421082       16797                  3          0   \n",
      "32434475   3421082       43352                  4          1   \n",
      "32434476   3421082       32700                  5          1   \n",
      "32434477   3421082       12023                  6          0   \n",
      "32434478   3421082       47941                  7          0   \n",
      "32434479   3421083        7854                  1          0   \n",
      "32434480   3421083       45309                  2          0   \n",
      "32434481   3421083       21162                  3          0   \n",
      "32434482   3421083       18176                  4          1   \n",
      "32434483   3421083       35211                  5          0   \n",
      "32434484   3421083       39678                  6          1   \n",
      "32434485   3421083       11352                  7          0   \n",
      "32434486   3421083        4600                  8          0   \n",
      "32434487   3421083       24852                  9          1   \n",
      "32434488   3421083        5020                 10          1   \n",
      "\n",
      "                                               product_name  aisle_id  \\\n",
      "0                                        Organic_Egg_Whites        86   \n",
      "1                                     Michigan_Organic_Kale        83   \n",
      "2                                             Garlic_Powder       104   \n",
      "3                                            Coconut_Butter        19   \n",
      "4                                         Natural_Sweetener        17   \n",
      "5                                                   Carrots        83   \n",
      "6                          Original_Unflavored_Gelatine_Mix       105   \n",
      "7                  All_Natural_No_Stir_Creamy_Almond_Butter        88   \n",
      "8                                   Classic_Blend_Cole_Slaw       123   \n",
      "9         Total_2%_with_Strawberry_Lowfat_Greek_Strained...       120   \n",
      "10                                   Unsweetened_Almondmilk        91   \n",
      "11                                                   Lemons       123   \n",
      "12                                     Organic_Baby_Spinach       123   \n",
      "13          Unsweetened_Chocolate_Almond_Breeze_Almond_Milk        91   \n",
      "14                                      Organic_Ginger_Root        83   \n",
      "15        Air_Chilled_Organic_Boneless_Skinless_Chicken_...        35   \n",
      "16                 Organic_Ezekiel_49_Bread_Cinnamon_Raisin       112   \n",
      "17                                  Plain_Pre-Sliced_Bagels        93   \n",
      "18                                  Honey/Lemon_Cough_Drops        11   \n",
      "19               Chewy_25%_Low_Sugar_Chocolate_Chip_Granola         3   \n",
      "20                              Oats_&_Chocolate_Chewy_Bars        48   \n",
      "21              Kellogg's_Nutri-Grain_Apple_Cinnamon_Cereal        48   \n",
      "22        Nutri-Grain_Soft_Baked_Strawberry_Cereal_Break...        48   \n",
      "23                   Kellogg's_Nutri-Grain_Blueberry_Cereal        48   \n",
      "24                                     Tiny_Twists_Pretzels       107   \n",
      "25                                    Traditional_Snack_Mix       125   \n",
      "26                    Goldfish_Cheddar_Baked_Snack_Crackers        78   \n",
      "27                                    Original_Orange_Juice        31   \n",
      "28                                   Sugarfree_Energy_Drink        64   \n",
      "29                                             Energy_Drink        64   \n",
      "...                                                     ...       ...   \n",
      "32434459                             Organic_Tomato_Cluster        83   \n",
      "32434460                                   Organic_Cilantro        16   \n",
      "32434461                  Organic_Pasture_Raised_Brown_Eggs        86   \n",
      "32434462       Organic_European_Style_Lightly_Salted_Butter        36   \n",
      "32434463                                    Imported_Butter        36   \n",
      "32434464                         Organic_Raw_Coconut_Butter        36   \n",
      "32434465               Hint_of_Lime_Flavored_Tortilla_Chips       107   \n",
      "32434466                                Classic_Wheat_Bread       112   \n",
      "32434467                                      Dijon_Mustard        72   \n",
      "32434468                          Pepper_Jack_Cheese_Slices        21   \n",
      "32434469       Healthy_Kids_Chicken_Alphabet_Condensed_Soup        69   \n",
      "32434470                               Lime_Sparkling_Water       115   \n",
      "32434471  Farmer’s_Market_Vine_Ripened_Tomato_&_Basil_Hu...        67   \n",
      "32434472                       Fresh_99%_Lean_Ground_Turkey        49   \n",
      "32434473                                     Original_Spray        36   \n",
      "32434474                                       Strawberries        24   \n",
      "32434475                                        Raspberries        32   \n",
      "32434476                             Original_Whipped_Cream        53   \n",
      "32434477              Toasted_Coconut_Chips_Original_Recipe       117   \n",
      "32434478                       Special_K_Red_Berries_Cereal       121   \n",
      "32434479                          Freeze_Dried_Mango_Slices       117   \n",
      "32434480                    Purple_Carrot_&_blueberry_Puffs        92   \n",
      "32434481           Organic_Mixed_Berry_Yogurt_&_Fruit_Snack        92   \n",
      "32434482            Organic_Strawberry_Yogurt_&_Fruit_Snack        92   \n",
      "32434483       Organic_Strawberry_&_Mango_Dried_Tiny_Fruits        92   \n",
      "32434484          Free_&_Clear_Natural_Dishwasher_Detergent        74   \n",
      "32434485       Organic_Mini_Sandwich_Crackers_Peanut_Butter        78   \n",
      "32434486                    All_Natural_French_Toast_Sticks        52   \n",
      "32434487                                             Banana        24   \n",
      "32434488  Organic__Sweet_&_Salty_Peanut_Pretzel_Granola_...         3   \n",
      "\n",
      "          department_id  user_id eval_set  order_number  order_dow  \\\n",
      "0                    16   202279    prior             3          5   \n",
      "1                     4   202279    prior             3          5   \n",
      "2                    13   202279    prior             3          5   \n",
      "3                    13   202279    prior             3          5   \n",
      "4                    13   202279    prior             3          5   \n",
      "5                     4   202279    prior             3          5   \n",
      "6                    13   202279    prior             3          5   \n",
      "7                    13   202279    prior             3          5   \n",
      "8                     4   202279    prior             3          5   \n",
      "9                    16   205970    prior            16          5   \n",
      "10                   16   205970    prior            16          5   \n",
      "11                    4   205970    prior            16          5   \n",
      "12                    4   205970    prior            16          5   \n",
      "13                   16   205970    prior            16          5   \n",
      "14                    4   205970    prior            16          5   \n",
      "15                   12   205970    prior            16          5   \n",
      "16                    3   205970    prior            16          5   \n",
      "17                    3   178520    prior            36          1   \n",
      "18                   11   178520    prior            36          1   \n",
      "19                   19   178520    prior            36          1   \n",
      "20                   14   178520    prior            36          1   \n",
      "21                   14   178520    prior            36          1   \n",
      "22                   14   178520    prior            36          1   \n",
      "23                   14   178520    prior            36          1   \n",
      "24                   19   178520    prior            36          1   \n",
      "25                   19   178520    prior            36          1   \n",
      "26                   19   178520    prior            36          1   \n",
      "27                    7   178520    prior            36          1   \n",
      "28                    7   178520    prior            36          1   \n",
      "29                    7   178520    prior            36          1   \n",
      "...                 ...      ...      ...           ...        ...   \n",
      "32434459              4    52726    prior             2          1   \n",
      "32434460              4    52726    prior             2          1   \n",
      "32434461             16    52726    prior             2          1   \n",
      "32434462             16    52726    prior             2          1   \n",
      "32434463             16    52726    prior             2          1   \n",
      "32434464             16    52726    prior             2          1   \n",
      "32434465             19   117076    prior             1          3   \n",
      "32434466              3   117076    prior             1          3   \n",
      "32434467             13   117076    prior             1          3   \n",
      "32434468             16   117076    prior             1          3   \n",
      "32434469             15   117076    prior             1          3   \n",
      "32434470              7   117076    prior             1          3   \n",
      "32434471             20   117076    prior             1          3   \n",
      "32434472             12   175185    prior            23          2   \n",
      "32434473             16   175185    prior            23          2   \n",
      "32434474              4   175185    prior            23          2   \n",
      "32434475              4   175185    prior            23          2   \n",
      "32434476             16   175185    prior            23          2   \n",
      "32434477             19   175185    prior            23          2   \n",
      "32434478             14   175185    prior            23          2   \n",
      "32434479             19    25247    prior            24          2   \n",
      "32434480             18    25247    prior            24          2   \n",
      "32434481             18    25247    prior            24          2   \n",
      "32434482             18    25247    prior            24          2   \n",
      "32434483             18    25247    prior            24          2   \n",
      "32434484             17    25247    prior            24          2   \n",
      "32434485             19    25247    prior            24          2   \n",
      "32434486              1    25247    prior            24          2   \n",
      "32434487              4    25247    prior            24          2   \n",
      "32434488             19    25247    prior            24          2   \n",
      "\n",
      "          order_hour_of_day  days_since_prior_order  \n",
      "0                         9                     8.0  \n",
      "1                         9                     8.0  \n",
      "2                         9                     8.0  \n",
      "3                         9                     8.0  \n",
      "4                         9                     8.0  \n",
      "5                         9                     8.0  \n",
      "6                         9                     8.0  \n",
      "7                         9                     8.0  \n",
      "8                         9                     8.0  \n",
      "9                        17                    12.0  \n",
      "10                       17                    12.0  \n",
      "11                       17                    12.0  \n",
      "12                       17                    12.0  \n",
      "13                       17                    12.0  \n",
      "14                       17                    12.0  \n",
      "15                       17                    12.0  \n",
      "16                       17                    12.0  \n",
      "17                        9                     7.0  \n",
      "18                        9                     7.0  \n",
      "19                        9                     7.0  \n",
      "20                        9                     7.0  \n",
      "21                        9                     7.0  \n",
      "22                        9                     7.0  \n",
      "23                        9                     7.0  \n",
      "24                        9                     7.0  \n",
      "25                        9                     7.0  \n",
      "26                        9                     7.0  \n",
      "27                        9                     7.0  \n",
      "28                        9                     7.0  \n",
      "29                        9                     7.0  \n",
      "...                     ...                     ...  \n",
      "32434459                 11                     2.0  \n",
      "32434460                 11                     2.0  \n",
      "32434461                 11                     2.0  \n",
      "32434462                 11                     2.0  \n",
      "32434463                 11                     2.0  \n",
      "32434464                 11                     2.0  \n",
      "32434465                 11                     NaN  \n",
      "32434466                 11                     NaN  \n",
      "32434467                 11                     NaN  \n",
      "32434468                 11                     NaN  \n",
      "32434469                 11                     NaN  \n",
      "32434470                 11                     NaN  \n",
      "32434471                 11                     NaN  \n",
      "32434472                 18                     4.0  \n",
      "32434473                 18                     4.0  \n",
      "32434474                 18                     4.0  \n",
      "32434475                 18                     4.0  \n",
      "32434476                 18                     4.0  \n",
      "32434477                 18                     4.0  \n",
      "32434478                 18                     4.0  \n",
      "32434479                  6                    21.0  \n",
      "32434480                  6                    21.0  \n",
      "32434481                  6                    21.0  \n",
      "32434482                  6                    21.0  \n",
      "32434483                  6                    21.0  \n",
      "32434484                  6                    21.0  \n",
      "32434485                  6                    21.0  \n",
      "32434486                  6                    21.0  \n",
      "32434487                  6                    21.0  \n",
      "32434488                  6                    21.0  \n",
      "\n",
      "[32434489 rows x 13 columns]\n"
     ]
    }
   ],
   "source": [
    "print(prior_products_order)"
   ]
  },
  {
   "cell_type": "code",
   "execution_count": 10,
   "metadata": {},
   "outputs": [
    {
     "data": {
      "text/plain": [
       "'Organic_Egg_Whites'"
      ]
     },
     "execution_count": 10,
     "metadata": {},
     "output_type": "execute_result"
    }
   ],
   "source": [
    "prior_products_order['product_name'][0]"
   ]
  },
  {
   "cell_type": "code",
   "execution_count": 8,
   "metadata": {},
   "outputs": [],
   "source": [
    "# add product name to each user\n",
    "#each row correspons to one order. \n",
    "#The first column is each order_id. \n",
    "#The second column is the names of all products correspond to each order_id.\n",
    "\n",
    "name_list = []\n",
    "for i in prior_products_order.groupby('order_id')['product_name']:\n",
    "    name_list.append(' '.join(i[1]))\n",
    "    "
   ]
  },
  {
   "cell_type": "code",
   "execution_count": 9,
   "metadata": {},
   "outputs": [],
   "source": [
    "#Order ID\n",
    "order_id = prior_products_order.groupby('order_id')['product_name'].agg('count').index\n"
   ]
  },
  {
   "cell_type": "code",
   "execution_count": 10,
   "metadata": {},
   "outputs": [],
   "source": [
    "#Creating a dataframe from list \n",
    "order_products_grouped = pd.DataFrame({'order_id':order_id, 'products':name_list})"
   ]
  },
  {
   "cell_type": "code",
   "execution_count": 14,
   "metadata": {},
   "outputs": [
    {
     "data": {
      "text/html": [
       "<div>\n",
       "<style scoped>\n",
       "    .dataframe tbody tr th:only-of-type {\n",
       "        vertical-align: middle;\n",
       "    }\n",
       "\n",
       "    .dataframe tbody tr th {\n",
       "        vertical-align: top;\n",
       "    }\n",
       "\n",
       "    .dataframe thead th {\n",
       "        text-align: right;\n",
       "    }\n",
       "</style>\n",
       "<table border=\"1\" class=\"dataframe\">\n",
       "  <thead>\n",
       "    <tr style=\"text-align: right;\">\n",
       "      <th></th>\n",
       "      <th>order_id</th>\n",
       "      <th>products</th>\n",
       "    </tr>\n",
       "  </thead>\n",
       "  <tbody>\n",
       "    <tr>\n",
       "      <th>0</th>\n",
       "      <td>2</td>\n",
       "      <td>Organic_Egg_Whites Michigan_Organic_Kale Garli...</td>\n",
       "    </tr>\n",
       "    <tr>\n",
       "      <th>1</th>\n",
       "      <td>3</td>\n",
       "      <td>Total_2%_with_Strawberry_Lowfat_Greek_Strained...</td>\n",
       "    </tr>\n",
       "    <tr>\n",
       "      <th>2</th>\n",
       "      <td>4</td>\n",
       "      <td>Plain_Pre-Sliced_Bagels Honey/Lemon_Cough_Drop...</td>\n",
       "    </tr>\n",
       "    <tr>\n",
       "      <th>3</th>\n",
       "      <td>5</td>\n",
       "      <td>Bag_of_Organic_Bananas Just_Crisp,_Parmesan Fr...</td>\n",
       "    </tr>\n",
       "    <tr>\n",
       "      <th>4</th>\n",
       "      <td>6</td>\n",
       "      <td>Cleanse Dryer_Sheets_Geranium_Scent Clean_Day_...</td>\n",
       "    </tr>\n",
       "  </tbody>\n",
       "</table>\n",
       "</div>"
      ],
      "text/plain": [
       "   order_id                                           products\n",
       "0         2  Organic_Egg_Whites Michigan_Organic_Kale Garli...\n",
       "1         3  Total_2%_with_Strawberry_Lowfat_Greek_Strained...\n",
       "2         4  Plain_Pre-Sliced_Bagels Honey/Lemon_Cough_Drop...\n",
       "3         5  Bag_of_Organic_Bananas Just_Crisp,_Parmesan Fr...\n",
       "4         6  Cleanse Dryer_Sheets_Geranium_Scent Clean_Day_..."
      ]
     },
     "execution_count": 14,
     "metadata": {},
     "output_type": "execute_result"
    }
   ],
   "source": [
    "order_products_grouped.head()"
   ]
  },
  {
   "cell_type": "code",
   "execution_count": 11,
   "metadata": {},
   "outputs": [],
   "source": [
    "#As we are going to use PySpark to extract bigrams \n",
    "#we need to prepare the dataframe in a format required by PySpark\n",
    "\n",
    "dataFrameList = []\n",
    "index = 0\n",
    "for row in order_products_grouped['products']:\n",
    "    productsName = row.split(' ')\n",
    "    tup = (index, productsName)\n",
    "    dataFrameList.append(tup)\n",
    "    index += 1"
   ]
  },
  {
   "cell_type": "code",
   "execution_count": 12,
   "metadata": {},
   "outputs": [],
   "source": [
    "# randomly split data into train and test \n",
    "import random\n",
    "import numpy\n",
    "random.shuffle(dataFrameList)\n",
    "\n",
    "train_data = dataFrameList[:2250411]\n",
    "test_data = dataFrameList[2250411:]\n"
   ]
  },
  {
   "cell_type": "code",
   "execution_count": 13,
   "metadata": {},
   "outputs": [],
   "source": [
    "#Extract Bigrams\n",
    "#First convert the data to spark dataframe\n",
    "#Using Word2Vec to convet the embedded words to pyspark format \n",
    "from pyspark.sql import SparkSession\n",
    "from pyspark.ml.feature import Word2Vec\n",
    "\n",
    "spark = SparkSession.builder.appName(\"Bigram\").getOrCreate()\n"
   ]
  },
  {
   "cell_type": "code",
   "execution_count": 14,
   "metadata": {},
   "outputs": [],
   "source": [
    "# spark dataframe： read in batch of 10000 due to large computation\n",
    "N = len(train_data) // 10000\n",
    "mod = len(train_data) % 10000\n",
    "\n"
   ]
  },
  {
   "cell_type": "code",
   "execution_count": 15,
   "metadata": {},
   "outputs": [],
   "source": [
    "trainDF = spark.createDataFrame(dataFrameList[0:10000] , ['id','product_name'])"
   ]
  },
  {
   "cell_type": "code",
   "execution_count": 16,
   "metadata": {},
   "outputs": [],
   "source": [
    "#To reduce computation read 10000 lines each time, and then combine all into one spark dataframe.\n",
    "for i in range(1,N):\n",
    "    trainDF_sub = spark.createDataFrame(train_data[10000*i:10000*(i+1)], ['id',\"product_name\"])\n",
    "    traintDF = trainDF.union(trainDF_sub)\n",
    "    \n",
    "trainDF_sub = spark.createDataFrame(train_data[10000*N:len(train_data)], ['id',\"product_name\"])\n",
    "trainDF = trainDF.union(trainDF_sub)"
   ]
  },
  {
   "cell_type": "code",
   "execution_count": 17,
   "metadata": {},
   "outputs": [
    {
     "data": {
      "text/plain": [
       "Row(id=1495846, product_name=['Thirst_Quencher_Caffeine_Free_Naturally_Flavored_Citrus_Soda', 'Kosher_Salt', 'Iodized_Salt_&_Pepper', 'Diet_Vanilla_Root_Beer'], bigrams=['Thirst_Quencher_Caffeine_Free_Naturally_Flavored_Citrus_Soda Kosher_Salt', 'Kosher_Salt Iodized_Salt_&_Pepper', 'Iodized_Salt_&_Pepper Diet_Vanilla_Root_Beer'])"
      ]
     },
     "execution_count": 17,
     "metadata": {},
     "output_type": "execute_result"
    }
   ],
   "source": [
    "# get bigram\n",
    "#Using 2-Gram to do so \n",
    "from pyspark.ml.feature import NGram\n",
    "\n",
    "ngram = NGram(n=2, inputCol=\"product_name\", outputCol=\"bigrams\")\n",
    "ngramDataFrame = ngram.transform(trainDF)\n",
    "\n",
    "ngramDataFrame.head()"
   ]
  },
  {
   "cell_type": "code",
   "execution_count": 4,
   "metadata": {},
   "outputs": [
    {
     "ename": "NameError",
     "evalue": "name 'ngramDataFrame' is not defined",
     "output_type": "error",
     "traceback": [
      "\u001b[0;31m---------------------------------------------------------------------------\u001b[0m",
      "\u001b[0;31mNameError\u001b[0m                                 Traceback (most recent call last)",
      "\u001b[0;32m<ipython-input-4-fc04f6b923d0>\u001b[0m in \u001b[0;36m<module>\u001b[0;34m()\u001b[0m\n\u001b[1;32m      6\u001b[0m \u001b[0;31m# {'Organic_Mint_Bunch': {'Organic_Navel_Orange':2, 'c':2}}\u001b[0m\u001b[0;34m\u001b[0m\u001b[0;34m\u001b[0m\u001b[0m\n\u001b[1;32m      7\u001b[0m \u001b[0;34m\u001b[0m\u001b[0m\n\u001b[0;32m----> 8\u001b[0;31m \u001b[0mbigrams\u001b[0m \u001b[0;34m=\u001b[0m \u001b[0mngramDataFrame\u001b[0m\u001b[0;34m.\u001b[0m\u001b[0mtoPandas\u001b[0m\u001b[0;34m(\u001b[0m\u001b[0;34m)\u001b[0m\u001b[0;34m[\u001b[0m\u001b[0;34m'bigrams'\u001b[0m\u001b[0;34m]\u001b[0m\u001b[0;34m\u001b[0m\u001b[0m\n\u001b[0m\u001b[1;32m      9\u001b[0m \u001b[0mtable\u001b[0m \u001b[0;34m=\u001b[0m \u001b[0;34m{\u001b[0m\u001b[0;34m}\u001b[0m\u001b[0;34m\u001b[0m\u001b[0m\n\u001b[1;32m     10\u001b[0m \u001b[0mtotal\u001b[0m \u001b[0;34m=\u001b[0m \u001b[0mlen\u001b[0m\u001b[0;34m(\u001b[0m\u001b[0mbigrams\u001b[0m\u001b[0;34m)\u001b[0m\u001b[0;34m\u001b[0m\u001b[0m\n",
      "\u001b[0;31mNameError\u001b[0m: name 'ngramDataFrame' is not defined"
     ]
    }
   ],
   "source": [
    "# count frequency:\n",
    "# Bigrams are stored in a nested dictionary:\n",
    "# first layer key is the first word in a bigram \n",
    "# second layer key is the second word in a bigram\n",
    "# the second layer value is the frequency. \n",
    "# {'Organic_Mint_Bunch': {'Organic_Navel_Orange':2, 'c':2}}\n",
    "\n",
    "bigrams = ngramDataFrame.toPandas()['bigrams']\n",
    "table = {}\n",
    "total = len(bigrams)\n",
    "completion = 0\n",
    "for bigram in bigrams:\n",
    "    for combination in bigram:\n",
    "        components = combination.split(' ')\n",
    "        key = components[0]\n",
    "        valKey = components[1]\n",
    "        if key in table:\n",
    "            valueDict = table[key]\n",
    "            if valKey in valueDict:\n",
    "                valueDict[valKey] = valueDict[valKey] + 1\n",
    "            else:\n",
    "                valueDict[valKey] = 1\n",
    "        else:\n",
    "            # create new value for key\n",
    "            valueDict =  {valKey: 1}\n",
    "            table[key] = valueDict\n",
    "    completion += 1\n",
    "print(\"==>\", float(completion / total) * 100, \"%\")"
   ]
  },
  {
   "cell_type": "code",
   "execution_count": 19,
   "metadata": {},
   "outputs": [
    {
     "name": "stdout",
     "output_type": "stream",
     "text": [
      "Banana  +  Organic_Strawberries :  25\n",
      "Banana  +  Organic_Avocado :  33\n",
      "Sparkling_Water_Grapefruit  +  Lime_Sparkling_Water :  22\n",
      "Bag_of_Organic_Bananas  +  Organic_Strawberries :  26\n",
      "Bag_of_Organic_Bananas  +  Organic_Raspberries :  27\n",
      "Bag_of_Organic_Bananas  +  Organic_Hass_Avocado :  36\n",
      "Organic_Avocado  +  Banana :  27\n",
      "Organic_Hass_Avocado  +  Bag_of_Organic_Bananas :  27\n",
      "Organic_Raspberries  +  Organic_Strawberries :  21\n",
      "Organic_Strawberries  +  Organic_Blueberries :  26\n",
      "Organic_Strawberries  +  Bag_of_Organic_Bananas :  21\n",
      "Large_Lemon  +  Limes :  27\n"
     ]
    }
   ],
   "source": [
    "for firstWord in table:\n",
    "    for secondWord in table[firstWord]:\n",
    "        if table[firstWord][secondWord] > 20:\n",
    "            print(firstWord, \" + \", secondWord, \": \", table[firstWord][secondWord])"
   ]
  },
  {
   "cell_type": "code",
   "execution_count": 20,
   "metadata": {},
   "outputs": [],
   "source": [
    "#Generate Recommendations\n",
    "#It will use the frequencies above to generate recommendations for each product : make a function  \n",
    "\n",
    "def getPureData(prodName):\n",
    "    \n",
    "#sort the bigram frequencies in descending order, \n",
    "#then return only the corresponding product names in the same order\n",
    "    \n",
    "    if prodName not in table:\n",
    "        return []\n",
    "    sortedOringalList = sorted(table[prodName].items(), key=lambda x: x[1], reverse=True)\n",
    "#     print(sortedOringalList)\n",
    "   \n",
    "    data = {}\n",
    "    for tp in sortedOringalList:\n",
    "        product = tp[0]\n",
    "        number = tp[1]\n",
    "        if number in data:\n",
    "            productList = data[number]\n",
    "            productList.append(product)\n",
    "        else:\n",
    "            productList = [product]\n",
    "        data[number] = productList\n",
    "#     print(data)\n",
    "#     print(\"==> Get pure data name:\")\n",
    "    \n",
    "    pureData = data.values()\n",
    "#     print(pureData)\n",
    "    \n",
    "    return list(pureData)\n",
    "\n",
    "def pickRecommendProds(pureData, numberOfRecommend):\n",
    "    \n",
    "#Pick certain number of products from the sorted product names\n",
    "    \n",
    "    recommendProds = []\n",
    "    for prods in pureData:\n",
    "        if len(prods) <= numberOfRecommend:\n",
    "            recommendProds += prods\n",
    "            numberOfRecommend -= len(prods)\n",
    "        else:\n",
    "            recommendProds += random.sample(prods, numberOfRecommend)\n",
    "            numberOfRecommend = 0\n",
    "\n",
    "        if numberOfRecommend == 0:\n",
    "            break\n",
    "    \n",
    "    return recommendProds\n",
    "\n",
    "# recommend products bought together with 'name'\n",
    "# name: the product to start with\n",
    "def getRecommend(name, numberOfRecommend):\n",
    "    \n",
    "    \n",
    "#Recommend certain number of products bought after the given input name\n",
    "    \n",
    "    # numberOfRecommend = 10\n",
    "    recommendProducts = []\n",
    "    productName = name\n",
    "    index = 0\n",
    "\n",
    "    while (numberOfRecommend):\n",
    "#         print(\"->Target: \", productName)\n",
    "#         print(\"->numberOfRecommend: \", numberOfRecommend)\n",
    "#         print(\"->Index: \", index)\n",
    "        data = getPureData(productName)\n",
    "    #     print(\"Pure data:\", data)\n",
    "        intermediate = pickRecommendProds(data, numberOfRecommend)\n",
    "        recommendProducts += intermediate\n",
    "#         print(\"Recommend: \", recommendProducts)\n",
    "#         print(\"Recommend: \", recommendProducts)\n",
    "        if len(intermediate) == 0 and index == len(recommendProducts):\n",
    "            break\n",
    "        numberOfRecommend -= len(intermediate)\n",
    "        if numberOfRecommend > 0:\n",
    "#             print(\"Still left: \", numberOfRecommend)\n",
    "            productName = recommendProducts[index]\n",
    "            index += 1\n",
    "\n",
    "#         print(\"==================\")\n",
    "\n",
    "    return recommendProducts"
   ]
  },
  {
   "cell_type": "code",
   "execution_count": 21,
   "metadata": {},
   "outputs": [
    {
     "name": "stdout",
     "output_type": "stream",
     "text": [
      "['Large_Lemon', 'Original_Kombucha', 'Fresh_Cauliflower', 'Flat_Parsley,_Bunch', 'Grated_Parmesan', 'Organic_Hass_Avocado', 'Organic_Small_Bunch_Celery', 'Active_Dry_Yeast', 'Limes', 'Organic_Avocado', 'Banana', 'Cucumber_Kirby', 'Organic_Hass_Avocado', 'Organic_Dill', 'Organic_Baby_Spinach']\n"
     ]
    }
   ],
   "source": [
    "print(getRecommend(\"Organic_Mint_Bunch\", 15))"
   ]
  },
  {
   "cell_type": "code",
   "execution_count": 22,
   "metadata": {},
   "outputs": [],
   "source": [
    "#We evaluate it by seeing in each order, how many products bought are in recommend list\n",
    "#We compare the next 9 actually bought products with this 10 recommendations \n",
    "#If there's a match, we will add 1 to the total score \n",
    "#Then we move to the second actually bought product \n",
    "#and give another 10 recommendations bought with the second product. Compare again, \n",
    "#and compute total scores. After iterate through all actually bought products in this order\n",
    "#we have the total score, and divide the score by the order size to get the final_score_1 for test order 1.\n",
    "\n",
    "def TestScore(test_data):\n",
    "    \n",
    "    scores = []\n",
    "\n",
    "    for order_info in test_data:\n",
    "        this_order = order_info[1]\n",
    "        order_len = len(this_order)\n",
    "        #print('order:', this_order)\n",
    "        #print('length of order', order_len)\n",
    "        i = 0\n",
    "        this_score = 0\n",
    "\n",
    "        while (i < order_len):\n",
    "            if this_order[i] in table:\n",
    "                # use original order length as the num of recommendation\n",
    "                recommends = getRecommend(this_order[i], order_len)\n",
    "                #print('====> recommends of ', this_order[i], \" : \", recommends)\n",
    "                laterProds = this_order[i:]\n",
    "                # check if the recommended products is included in order\n",
    "                for prod in laterProds:\n",
    "                    if prod in recommends:\n",
    "                        #print(\"-->\", prod)\n",
    "                        this_score += 1\n",
    "                i += 1\n",
    "            else:\n",
    "                # if the product is not trained in model, skip\n",
    "                i += 1\n",
    "                order_len -= 1\n",
    "\n",
    "        #print(this_score)\n",
    "        if not order_len == 0:\n",
    "            scores.append(this_score/order_len)\n",
    "        #print(scores)\n",
    "        \n",
    "    # return a list of predicted scores\n",
    "    return(scores)"
   ]
  },
  {
   "cell_type": "code",
   "execution_count": 23,
   "metadata": {},
   "outputs": [
    {
     "name": "stdout",
     "output_type": "stream",
     "text": [
      "======> Mean Test Scores:  0.18478416060614586\n"
     ]
    }
   ],
   "source": [
    "scores = TestScore(test_data)\n",
    "print(\"======> Mean Test Scores: \", numpy.mean(scores))"
   ]
  },
  {
   "cell_type": "code",
   "execution_count": null,
   "metadata": {},
   "outputs": [],
   "source": [
    "#meaning in each of the order the products the customer bought are on an average 18% same as our recommendation list.\n"
   ]
  }
 ],
 "metadata": {
  "kernelspec": {
   "display_name": "Python 3",
   "language": "python",
   "name": "python3"
  },
  "language_info": {
   "codemirror_mode": {
    "name": "ipython",
    "version": 3
   },
   "file_extension": ".py",
   "mimetype": "text/x-python",
   "name": "python",
   "nbconvert_exporter": "python",
   "pygments_lexer": "ipython3",
   "version": "3.6.4"
  }
 },
 "nbformat": 4,
 "nbformat_minor": 2
}
